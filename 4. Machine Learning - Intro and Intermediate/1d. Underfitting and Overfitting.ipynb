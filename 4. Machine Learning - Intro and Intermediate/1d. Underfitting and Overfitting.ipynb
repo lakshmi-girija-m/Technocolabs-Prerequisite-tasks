{
 "cells": [
  {
   "cell_type": "markdown",
   "metadata": {},
   "source": [
    "## Underfitting and Overfitting\n",
    "Dataset: Home prices in Melbourne, Australia"
   ]
  },
  {
   "cell_type": "code",
   "execution_count": 1,
   "metadata": {},
   "outputs": [],
   "source": [
    "import pandas as pd"
   ]
  },
  {
   "cell_type": "code",
   "execution_count": 2,
   "metadata": {},
   "outputs": [],
   "source": [
    "melbourne_prices = 'Datasets/melb_data.csv'\n",
    "price_data = pd.read_csv(melbourne_prices)\n",
    "\n",
    "price_data.dropna(axis=0)\n",
    "\n",
    "y = price_data.Price\n",
    "\n",
    "melbourne_features = ['Rooms', 'Bathroom', 'Landsize', 'Lattitude', 'Longtitude']\n",
    "X = price_data[melbourne_features]\n",
    "\n",
    "from sklearn.model_selection import train_test_split\n",
    "X_train, X_test, y_train, y_test = train_test_split(X, y , random_state=42)"
   ]
  },
  {
   "cell_type": "code",
   "execution_count": 3,
   "metadata": {},
   "outputs": [],
   "source": [
    "from sklearn.metrics import mean_absolute_error\n",
    "from sklearn.tree import DecisionTreeRegressor\n",
    "\n",
    "def get_mae(max_leaf_nodes, max_depth, X_train, X_test, y_train, y_test):\n",
    "    model = DecisionTreeRegressor(max_leaf_nodes=max_leaf_nodes, max_depth=max_depth, random_state=42)\n",
    "    model.fit(X_train, y_train)\n",
    "    pred = model.predict(X_test)\n",
    "    mea = mean_absolute_error(y_test, pred)\n",
    "    \n",
    "    return mea"
   ]
  },
  {
   "cell_type": "code",
   "execution_count": 4,
   "metadata": {},
   "outputs": [
    {
     "name": "stdout",
     "output_type": "stream",
     "text": [
      "Max leaf nodes: 5  \t Max depth: 10   \t Mean Absolute Error:  353119.2126692225\n",
      "Max leaf nodes: 5  \t Max depth: 15   \t Mean Absolute Error:  353119.2126692225\n",
      "Max leaf nodes: 5  \t Max depth: 20   \t Mean Absolute Error:  353119.2126692225\n",
      "Max leaf nodes: 5  \t Max depth: 30   \t Mean Absolute Error:  353119.2126692225\n",
      "Max leaf nodes: 5  \t Max depth: None   \t Mean Absolute Error:  353119.2126692225\n",
      "Max leaf nodes: 50  \t Max depth: 10   \t Mean Absolute Error:  259147.3027976146\n",
      "Max leaf nodes: 50  \t Max depth: 15   \t Mean Absolute Error:  255724.2842347583\n",
      "Max leaf nodes: 50  \t Max depth: 20   \t Mean Absolute Error:  255724.2842347583\n",
      "Max leaf nodes: 50  \t Max depth: 30   \t Mean Absolute Error:  255724.2842347583\n",
      "Max leaf nodes: 50  \t Max depth: None   \t Mean Absolute Error:  255724.2842347583\n",
      "Max leaf nodes: 500  \t Max depth: 10   \t Mean Absolute Error:  236595.5919407878\n",
      "Max leaf nodes: 500  \t Max depth: 15   \t Mean Absolute Error:  221946.70481048163\n",
      "Max leaf nodes: 500  \t Max depth: 20   \t Mean Absolute Error:  224042.10073664188\n",
      "Max leaf nodes: 500  \t Max depth: 30   \t Mean Absolute Error:  223502.14955904867\n",
      "Max leaf nodes: 500  \t Max depth: None   \t Mean Absolute Error:  223502.14955904867\n",
      "Max leaf nodes: 510  \t Max depth: 10   \t Mean Absolute Error:  236617.48052469612\n",
      "Max leaf nodes: 510  \t Max depth: 15   \t Mean Absolute Error:  221963.5336368227\n",
      "Max leaf nodes: 510  \t Max depth: 20   \t Mean Absolute Error:  224272.51781467025\n",
      "Max leaf nodes: 510  \t Max depth: 30   \t Mean Absolute Error:  223505.0926698014\n",
      "Max leaf nodes: 510  \t Max depth: None   \t Mean Absolute Error:  223505.0926698014\n",
      "Max leaf nodes: 515  \t Max depth: 10   \t Mean Absolute Error:  236598.8535515911\n",
      "Max leaf nodes: 515  \t Max depth: 15   \t Mean Absolute Error:  221565.52408127012\n",
      "Max leaf nodes: 515  \t Max depth: 20   \t Mean Absolute Error:  223597.57199633584\n",
      "Max leaf nodes: 515  \t Max depth: 30   \t Mean Absolute Error:  223714.8596390725\n",
      "Max leaf nodes: 515  \t Max depth: None   \t Mean Absolute Error:  223714.8596390725\n",
      "Max leaf nodes: 520  \t Max depth: 10   \t Mean Absolute Error:  236479.75477934672\n",
      "Max leaf nodes: 520  \t Max depth: 15   \t Mean Absolute Error:  221841.4137587238\n",
      "Max leaf nodes: 520  \t Max depth: 20   \t Mean Absolute Error:  223481.47690442705\n",
      "Max leaf nodes: 520  \t Max depth: 30   \t Mean Absolute Error:  223968.12306807196\n",
      "Max leaf nodes: 520  \t Max depth: None   \t Mean Absolute Error:  223968.12306807196\n"
     ]
    }
   ],
   "source": [
    "best = {}\n",
    "for max_leaf_nodes in [5, 50, 500, 510, 515, 520]:\n",
    "    for max_depth in [10, 15, 20, 30, None]:\n",
    "        mae = get_mae(max_leaf_nodes, max_depth, X_train, X_test, y_train, y_test)\n",
    "        print(\"Max leaf nodes: {0}  \\t Max depth: {1}   \\t Mean Absolute Error:  {2}\".format(max_leaf_nodes, max_depth, mae))\n",
    "        best[mae] = [max_leaf_nodes, max_depth]"
   ]
  },
  {
   "cell_type": "code",
   "execution_count": 5,
   "metadata": {},
   "outputs": [
    {
     "name": "stdout",
     "output_type": "stream",
     "text": [
      "[221565.52408127012]\n",
      "Best parameters: \n",
      "Max leaf nodes: 515  \t Max depth: 15   \t Mean Absolute Error:  [221565.52408127012]\n"
     ]
    }
   ],
   "source": [
    "minval = min(best.keys())\n",
    "res = [k for k, v in best.items() if k==minval]\n",
    "print(res)\n",
    "print(\"Best parameters: \")\n",
    "print(\"Max leaf nodes: {0}  \\t Max depth: {1}   \\t Mean Absolute Error:  {2}\".format(best[res[0]][0], best[res[0]][1], res))"
   ]
  },
  {
   "cell_type": "code",
   "execution_count": null,
   "metadata": {},
   "outputs": [],
   "source": []
  }
 ],
 "metadata": {
  "kernelspec": {
   "display_name": "Python 3",
   "language": "python",
   "name": "python3"
  },
  "language_info": {
   "codemirror_mode": {
    "name": "ipython",
    "version": 3
   },
   "file_extension": ".py",
   "mimetype": "text/x-python",
   "name": "python",
   "nbconvert_exporter": "python",
   "pygments_lexer": "ipython3",
   "version": "3.8.5"
  }
 },
 "nbformat": 4,
 "nbformat_minor": 4
}
